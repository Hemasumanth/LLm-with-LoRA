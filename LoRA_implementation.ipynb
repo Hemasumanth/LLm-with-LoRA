{
 "cells": [
  {
   "cell_type": "markdown",
   "metadata": {},
   "source": [
    "## LoRA"
   ]
  },
  {
   "cell_type": "markdown",
   "metadata": {},
   "source": [
    "The primary goal of this project is to demonstrate the efficacy of **PEFT methods** in improving the performance of the distilbert-base-uncased model on the 'ag_news' dataset, a popular benchmark for text classification tasks. The focus is on enhancing model accuracy while significantly reducing the number of trainable parameters, thereby making the training process more efficient."
   ]
  },
  {
   "cell_type": "code",
   "execution_count": 1,
   "metadata": {
    "colab": {
     "base_uri": "https://localhost:8080/"
    },
    "id": "B32cKm8-hJMK",
    "outputId": "fabb295b-ce55-424a-cc6a-aa4caba5ab67"
   },
   "outputs": [
    {
     "name": "stdout",
     "output_type": "stream",
     "text": [
      "Installing collected packages: pyarrow-hotfix, dill, responses, multiprocess, accelerate, datasets, peft, evaluate\n",
      "Successfully installed accelerate-0.25.0 datasets-2.15.0 dill-0.3.7 evaluate-0.4.1 multiprocess-0.70.15 peft-0.7.1 pyarrow-hotfix-0.6 responses-0.18.0\n"
     ]
    }
   ],
   "source": [
    "# !pip3 install transformers[torch] datasets peft evaluate accelerate"
   ]
  },
  {
   "cell_type": "code",
   "execution_count": 2,
   "metadata": {
    "id": "o82l08U0hPto"
   },
   "outputs": [],
   "source": [
    "import torch\n",
    "from transformers import (\n",
    "    AutoTokenizer,\n",
    "    AutoConfig,\n",
    "    AutoModelForSequenceClassification,\n",
    "    DataCollatorWithPadding,\n",
    "    TrainingArguments,\n",
    "    Trainer)\n",
    "from peft import PeftModel, PeftConfig, get_peft_model, LoraConfig\n",
    "import evaluate\n",
    "import numpy as np\n",
    "from datasets import load_dataset\n",
    "from torch.optim import AdamW\n",
    "from transformers import get_scheduler\n",
    "from tqdm.auto import tqdm\n",
    "from torch.utils.data import DataLoader, Dataset, TensorDataset\n",
    "from torch.nn.utils.rnn import pad_sequence\n",
    "from sklearn.metrics import f1_score\n",
    "from tqdm import tqdm"
   ]
  },
  {
   "cell_type": "code",
   "execution_count": 31,
   "metadata": {
    "colab": {
     "base_uri": "https://localhost:8080/"
    },
    "id": "WUw9GNE7ecji",
    "outputId": "7e1fa98f-7751-4e1d-f46d-e553f169df36"
   },
   "outputs": [
    {
     "name": "stdout",
     "output_type": "stream",
     "text": [
      "Wed Dec 20 09:07:38 2023       \n",
      "+---------------------------------------------------------------------------------------+\n",
      "| NVIDIA-SMI 535.104.05             Driver Version: 535.104.05   CUDA Version: 12.2     |\n",
      "|-----------------------------------------+----------------------+----------------------+\n",
      "| GPU  Name                 Persistence-M | Bus-Id        Disp.A | Volatile Uncorr. ECC |\n",
      "| Fan  Temp   Perf          Pwr:Usage/Cap |         Memory-Usage | GPU-Util  Compute M. |\n",
      "|                                         |                      |               MIG M. |\n",
      "|=========================================+======================+======================|\n",
      "|   0  Tesla T4                       Off | 00000000:00:04.0 Off |                    0 |\n",
      "| N/A   71C    P0              32W /  70W |   4263MiB / 15360MiB |      0%      Default |\n",
      "|                                         |                      |                  N/A |\n",
      "+-----------------------------------------+----------------------+----------------------+\n",
      "                                                                                         \n",
      "+---------------------------------------------------------------------------------------+\n",
      "| Processes:                                                                            |\n",
      "|  GPU   GI   CI        PID   Type   Process name                            GPU Memory |\n",
      "|        ID   ID                                                             Usage      |\n",
      "|=======================================================================================|\n",
      "+---------------------------------------------------------------------------------------+\n"
     ]
    }
   ],
   "source": [
    "!nvidia-smi"
   ]
  },
  {
   "cell_type": "code",
   "execution_count": 3,
   "metadata": {
    "colab": {
     "base_uri": "https://localhost:8080/"
    },
    "id": "WXAZuiDnhYR_",
    "outputId": "df2bd797-a3e7-4395-fd9f-b4bcc12d69c7"
   },
   "outputs": [
    {
     "name": "stdout",
     "output_type": "stream",
     "text": [
      "cuda\n"
     ]
    }
   ],
   "source": [
    "# Check if CUDA is available and set device accordingly\n",
    "device = torch.device(\"cuda\" if torch.cuda.is_available() else \"cpu\")\n",
    "print(device)"
   ]
  },
  {
   "cell_type": "code",
   "execution_count": 26,
   "metadata": {
    "id": "XVwqAFWAhbRI"
   },
   "outputs": [],
   "source": [
    "# Load the dataset\n",
    "dataset = load_dataset('ag_news')"
   ]
  },
  {
   "cell_type": "code",
   "execution_count": 5,
   "metadata": {
    "colab": {
     "base_uri": "https://localhost:8080/"
    },
    "id": "TPRsheW3lIAs",
    "outputId": "b7833059-f58b-487c-cfd0-fb14b6ae3609"
   },
   "outputs": [
    {
     "data": {
      "text/plain": [
       "4"
      ]
     },
     "execution_count": 5,
     "metadata": {},
     "output_type": "execute_result"
    }
   ],
   "source": [
    "# for i, j in zip(dataset['train']['text'][:10], dataset['train']['label'][:10]):\n",
    "#   print(i, j)\n",
    "n_labels = len(set(dataset['train']['label']))\n",
    "n_labels"
   ]
  },
  {
   "cell_type": "code",
   "execution_count": 6,
   "metadata": {
    "id": "yl_Yei2olbxO"
   },
   "outputs": [],
   "source": [
    "model_checkpoint = 'distilbert-base-uncased'"
   ]
  },
  {
   "cell_type": "code",
   "execution_count": 21,
   "metadata": {
    "colab": {
     "base_uri": "https://localhost:8080/"
    },
    "id": "iBSM6gbglJgR",
    "outputId": "bc73fab2-d7e6-4492-947a-d0669453ed7c"
   },
   "outputs": [
    {
     "name": "stderr",
     "output_type": "stream",
     "text": [
      "Some weights of DistilBertForSequenceClassification were not initialized from the model checkpoint at distilbert-base-uncased and are newly initialized: ['classifier.bias', 'pre_classifier.bias', 'pre_classifier.weight', 'classifier.weight']\n",
      "You should probably TRAIN this model on a down-stream task to be able to use it for predictions and inference.\n"
     ]
    }
   ],
   "source": [
    "tokenizer = AutoTokenizer.from_pretrained(model_checkpoint, add_prefix_space=True)\n",
    "model = AutoModelForSequenceClassification.from_pretrained(model_checkpoint, num_labels=n_labels)"
   ]
  },
  {
   "cell_type": "markdown",
   "metadata": {},
   "source": [
    "## Model - 1 (Without any fine-tuning)"
   ]
  },
  {
   "cell_type": "code",
   "execution_count": 27,
   "metadata": {
    "colab": {
     "base_uri": "https://localhost:8080/"
    },
    "id": "ZyxBHKfRxaBB",
    "outputId": "d0549a1d-c268-457b-93e2-512171a3cc18"
   },
   "outputs": [
    {
     "name": "stderr",
     "output_type": "stream",
     "text": [
      "Processing batches: 100%|██████████| 238/238 [01:04<00:00,  3.67it/s]"
     ]
    },
    {
     "name": "stdout",
     "output_type": "stream",
     "text": [
      "Macro F1-Score: 0.20035313957085607\n",
      "Micro F1-Score: 0.26105263157894737\n"
     ]
    },
    {
     "name": "stderr",
     "output_type": "stream",
     "text": [
      "\n"
     ]
    }
   ],
   "source": [
    "# Tokenize the entire dataset\n",
    "encodings = tokenizer(dataset['test']['text'], truncation=True, padding=True)\n",
    "input_ids = torch.tensor(encodings['input_ids']).to(device)\n",
    "attention_masks = torch.tensor(encodings['attention_mask']).to(device)\n",
    "labels = torch.tensor(dataset['test']['label']).to(device)\n",
    "model.to(device)\n",
    "# Create a DataLoader\n",
    "tensor_dataset = TensorDataset(input_ids, attention_masks, labels)\n",
    "dataloader = DataLoader(tensor_dataset, batch_size=32)\n",
    "\n",
    "# Lists to store predictions and actual labels\n",
    "predictions = []\n",
    "true_labels = []\n",
    "\n",
    "# Disable gradient calculations\n",
    "with torch.no_grad():\n",
    "    model.eval()  # Set model to evaluation mode\n",
    "    for batch in tqdm(dataloader, desc=\"Processing batches\"):\n",
    "        input_ids, attention_mask, label = batch\n",
    "\n",
    "        # Move batch data to the device\n",
    "        input_ids = input_ids.to(device)\n",
    "        attention_mask = attention_mask.to(device)\n",
    "        label = label.to(device)\n",
    "\n",
    "        logits = model(input_ids, attention_mask=attention_mask).logits\n",
    "        preds = torch.argmax(logits, dim=1).tolist()\n",
    "        predictions.extend(preds)\n",
    "        true_labels.extend(label.cpu().tolist())\n",
    "\n",
    "# Calculate F1-scores\n",
    "macro_f1 = f1_score(true_labels, predictions, average='macro')\n",
    "micro_f1 = f1_score(true_labels, predictions, average='micro')\n",
    "\n",
    "print(f\"Macro F1-Score: {macro_f1}\")\n",
    "print(f\"Micro F1-Score: {micro_f1}\")\n"
   ]
  },
  {
   "cell_type": "markdown",
   "metadata": {},
   "source": [
    "## Model-2 (FineTune with LoRA)"
   ]
  },
  {
   "cell_type": "code",
   "execution_count": 8,
   "metadata": {
    "id": "42tv9ZDVxn16"
   },
   "outputs": [],
   "source": [
    "peft_config = LoraConfig(task_type=\"SEQ_CLS\",\n",
    "                        r=4,\n",
    "                        lora_alpha=32,\n",
    "                        lora_dropout=0.01,\n",
    "                        target_modules = ['q_lin'])"
   ]
  },
  {
   "cell_type": "code",
   "execution_count": 10,
   "metadata": {
    "colab": {
     "base_uri": "https://localhost:8080/"
    },
    "id": "daqbu5wJy4gR",
    "outputId": "16b45b88-1713-486c-a837-43da10781fa8"
   },
   "outputs": [
    {
     "name": "stdout",
     "output_type": "stream",
     "text": [
      "trainable params: 630,532 || all params: 67,587,080 || trainable%: 0.9329179482232403\n"
     ]
    }
   ],
   "source": [
    "model = get_peft_model(model, peft_config)\n",
    "model.print_trainable_parameters()"
   ]
  },
  {
   "cell_type": "code",
   "execution_count": 12,
   "metadata": {
    "id": "x-EwfVC3lDUQ"
   },
   "outputs": [],
   "source": [
    "train_encodings = tokenizer(dataset['train']['text'], truncation=True, padding=True)"
   ]
  },
  {
   "cell_type": "code",
   "execution_count": 13,
   "metadata": {
    "id": "ZKbKu91zy6vN"
   },
   "outputs": [],
   "source": [
    "from transformers import AdamW\n",
    "from transformers import get_linear_schedule_with_warmup\n",
    "\n",
    "input_ids = torch.tensor(train_encodings['input_ids']).to(device)\n",
    "attention_masks = torch.tensor(train_encodings['attention_mask']).to(device)\n",
    "labels = torch.tensor(dataset['train']['label']).to(device)"
   ]
  },
  {
   "cell_type": "code",
   "execution_count": null,
   "metadata": {
    "id": "FKA4mP8Hl9xB"
   },
   "outputs": [],
   "source": [
    "model.to(device)"
   ]
  },
  {
   "cell_type": "code",
   "execution_count": 16,
   "metadata": {
    "id": "aaaq31n87HwC"
   },
   "outputs": [],
   "source": [
    " # Create a DataLoader\n",
    "train_dataset = TensorDataset(input_ids, attention_masks, labels)\n",
    "train_loader = DataLoader(train_dataset, batch_size=16, shuffle=True)\n",
    "num_epochs = 3  # Set the number of epochs\n",
    "\n",
    "\n",
    "# Define the optimizer and scheduler\n",
    "optimizer = AdamW(model.parameters(), lr=5e-5)\n",
    "scheduler = get_linear_schedule_with_warmup(optimizer, num_warmup_steps=0, num_training_steps=len(train_loader) * num_epochs)\n",
    "\n",
    "\n"
   ]
  },
  {
   "cell_type": "code",
   "execution_count": null,
   "metadata": {
    "id": "tUYn9sa5zMT7"
   },
   "outputs": [],
   "source": [
    "# Training Loop\n",
    "model.train()\n",
    "for epoch in range(num_epochs):\n",
    "    for batch in tqdm(train_loader):\n",
    "        # Move batch to device\n",
    "        batch = [b.to(device) for b in batch]\n",
    "        inputs, masks, labels = batch\n",
    "\n",
    "        # Forward pass\n",
    "        outputs = model(inputs, attention_mask=masks, labels=labels)\n",
    "        loss = outputs.loss\n",
    "\n",
    "        # Backward pass and optimization\n",
    "        optimizer.zero_grad()\n",
    "        loss.backward()\n",
    "        optimizer.step()\n",
    "        scheduler.step()\n",
    "    torch.save(model, f'epoch{epoch}.pth')\n",
    "    # print(f\"Epoch {epoch} finished\")"
   ]
  },
  {
   "cell_type": "code",
   "execution_count": 18,
   "metadata": {
    "id": "yHywKtRb3yL9"
   },
   "outputs": [],
   "source": [
    "model = torch.load('/content/epoch3.pth')"
   ]
  },
  {
   "cell_type": "code",
   "execution_count": 19,
   "metadata": {
    "id": "EAK34msK4rvG"
   },
   "outputs": [],
   "source": [
    "encodings = tokenizer(dataset['test']['text'], truncation=True, padding=True)"
   ]
  },
  {
   "cell_type": "code",
   "execution_count": 20,
   "metadata": {
    "colab": {
     "base_uri": "https://localhost:8080/"
    },
    "id": "w0nirXCH2P6d",
    "outputId": "e5348bad-7f7c-4397-f4de-ccb604ce0170"
   },
   "outputs": [
    {
     "name": "stderr",
     "output_type": "stream",
     "text": [
      "Processing batches: 100%|██████████| 238/238 [01:05<00:00,  3.61it/s]"
     ]
    },
    {
     "name": "stdout",
     "output_type": "stream",
     "text": [
      "Macro F1-Score: 0.9190492680404317\n",
      "Micro F1-Score: 0.9190789473684211\n"
     ]
    },
    {
     "name": "stderr",
     "output_type": "stream",
     "text": [
      "\n"
     ]
    }
   ],
   "source": [
    "# Tokenize the entire dataset\n",
    "\n",
    "input_ids = torch.tensor(encodings['input_ids']).to(device)\n",
    "attention_masks = torch.tensor(encodings['attention_mask']).to(device)\n",
    "labels = torch.tensor(dataset['test']['label']).to(device)\n",
    "model.to(device)\n",
    "# Create a DataLoader\n",
    "dataset = TensorDataset(input_ids, attention_masks, labels)\n",
    "dataloader = DataLoader(dataset, batch_size=32)\n",
    "\n",
    "# Lists to store predictions and actual labels\n",
    "predictions = []\n",
    "true_labels = []\n",
    "\n",
    "# Disable gradient calculations\n",
    "with torch.no_grad():\n",
    "    model.eval()  # Set model to evaluation mode\n",
    "    for batch in tqdm(dataloader, desc=\"Processing batches\"):\n",
    "        input_ids, attention_mask, label = batch\n",
    "\n",
    "        # Move batch data to the device\n",
    "        input_ids = input_ids.to(device)\n",
    "        attention_mask = attention_mask.to(device)\n",
    "        label = label.to(device)\n",
    "\n",
    "        logits = model(input_ids, attention_mask=attention_mask).logits\n",
    "        preds = torch.argmax(logits, dim=1).tolist()\n",
    "        predictions.extend(preds)\n",
    "        true_labels.extend(label.cpu().tolist())\n",
    "\n",
    "# Calculate F1-scores\n",
    "macro_f1 = f1_score(true_labels, predictions, average='macro')\n",
    "micro_f1 = f1_score(true_labels, predictions, average='micro')\n",
    "\n",
    "print(f\"Macro F1-Score: {macro_f1}\")\n",
    "print(f\"Micro F1-Score: {micro_f1}\")\n"
   ]
  }
 ],
 "metadata": {
  "accelerator": "GPU",
  "colab": {
   "gpuType": "T4",
   "provenance": []
  },
  "kernelspec": {
   "display_name": "Python 3 (ipykernel)",
   "language": "python",
   "name": "python3"
  },
  "language_info": {
   "codemirror_mode": {
    "name": "ipython",
    "version": 3
   },
   "file_extension": ".py",
   "mimetype": "text/x-python",
   "name": "python",
   "nbconvert_exporter": "python",
   "pygments_lexer": "ipython3",
   "version": "3.9.6"
  }
 },
 "nbformat": 4,
 "nbformat_minor": 4
}
